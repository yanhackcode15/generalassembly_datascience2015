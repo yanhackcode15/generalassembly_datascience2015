{
 "metadata": {
  "name": "",
  "signature": "sha256:f6c850911e6542baa6146b570b4f4236ec8c4bddca780be78770cc2059c36ae0"
 },
 "nbformat": 3,
 "nbformat_minor": 0,
 "worksheets": [
  {
   "cells": [
    {
     "cell_type": "heading",
     "level": 1,
     "metadata": {},
     "source": [
      "GA Data Science - Backpropagation"
     ]
    },
    {
     "cell_type": "code",
     "collapsed": false,
     "input": [
      "import random\n",
      "import numpy as np\n",
      "import pandas as pd\n",
      "import sklearn.cross_validation as cv # KFolds\n",
      "import math\n",
      "\n",
      "from pybrain.datasets import SupervisedDataSet\n",
      "from pybrain.tools.shortcuts import buildNetwork\n",
      "from pybrain.supervised.trainers import BackpropTrainer\n",
      "from pybrain.structure import TanhLayer\n",
      "from pybrain.structure import SigmoidLayer\n",
      "\n",
      "import matplotlib.pyplot as plt\n",
      "%matplotlib inline"
     ],
     "language": "python",
     "metadata": {},
     "outputs": [],
     "prompt_number": 323
    },
    {
     "cell_type": "heading",
     "level": 2,
     "metadata": {},
     "source": [
      "Investigate Transfer Functions"
     ]
    },
    {
     "cell_type": "code",
     "collapsed": false,
     "input": [
      "# sigmoid\n",
      "def sigmoid(x):\n",
      "    return 1.0/(1.0 + np.exp(-x))\n",
      "\n",
      "def sigmoid_prime(x):\n",
      "    return sigmoid(x) * (1.0 - sigmoid(x))\n",
      "\n",
      "# tanh\n",
      "def tanh(x):\n",
      "    return np.tanh(x)\n",
      "\n",
      "def tanh_prime(x):\n",
      "    return 1 - (tanh(x))**2\n",
      "\n",
      "\n",
      "# Plot them!\n",
      "x = np.arange(-10, 10, 0.01)   # from -10 to 10, step 0.01\n",
      "\n",
      "plt.plot(x, map(sigmoid, x), 'r');        # sigmoid is red (deriv green)\n",
      "#plt.plot(x, map(sigmoid_prime, x), 'g');\n",
      "plt.plot(x, map(tanh, x), 'b');           # tanh is blue (deriv yellow)\n",
      "#plt.plot(x, map(tanh_prime, x), 'y');"
     ],
     "language": "python",
     "metadata": {},
     "outputs": [
      {
       "metadata": {},
       "output_type": "display_data",
       "png": "[encoded data removed]",
       "text": [
        "<matplotlib.figure.Figure at 0x1096f9790>"
       ]
      }
     ],
     "prompt_number": 57
    },
    {
     "cell_type": "heading",
     "level": 2,
     "metadata": {},
     "source": [
      "Backpropagation Example for 2-2-1 Network"
     ]
    },
    {
     "cell_type": "code",
     "collapsed": false,
     "input": [
      "# XOR Data Set\n",
      "\n",
      "features = [[0.0, 0.0], [0.0, 1.0], [1.0, 0.0], [1.0, 1.0]]\n",
      "targets  = [0.0, 1.0, 1.0, 0.0]"
     ],
     "language": "python",
     "metadata": {},
     "outputs": [],
     "prompt_number": 340
    },
    {
     "cell_type": "heading",
     "level": 3,
     "metadata": {},
     "source": [
      "Initialize Network (Weights & Biases)"
     ]
    },
    {
     "cell_type": "code",
     "collapsed": false,
     "input": [
      "# A 2-2-1 neural network -- two inputs, two hidden neurons, and one output\n",
      "\n",
      "# A few updates could be made:\n",
      "#  + Currently, decreasing the error function is not guaranteed because the learning is on-line,\n",
      "#      e.g. weights are updated following each pattern presentation. Instead, sum the weight\n",
      "#      changes across all learned patterns then update the weights once (batch processing).\n",
      "#  + Currently, the gradient descent is not optimal -- by storing the prior weight change, we\n",
      "#      can implement momentum which will ensure we do not oscillate as much.\n",
      "\n",
      "\n",
      "# Has three neurons -- hidden1 (h), hidden2 (i), and output (o)\n",
      "class XORNetwork():\n",
      "    def __init__(self, learning_rate):\n",
      "        self.learning_rate = learning_rate\n",
      "        \n",
      "        # The weights ENTERING the neuron\n",
      "        self.weights_h = np.random.randn(2)  # normally distributed\n",
      "        self.weights_i = np.random.randn(2)\n",
      "        self.weights_o = np.random.randn(2)\n",
      "        \n",
      "        # The output values from the hidden layer [h, i]\n",
      "        self.hidden_out = np.random.randn(2)\n",
      "\n",
      "        # Intially set to -1 -- experimentally works better due to deficiencies above\n",
      "        self.bias_h = -1\n",
      "        self.bias_i = -1\n",
      "        self.bias_o = -1\n",
      "    \n",
      "    def print_weights(self):\n",
      "        print 'a->h, b->h', self.weights_h\n",
      "        print 'a->i, b->i', self.weights_i\n",
      "        print 'h->o, i->o', self.weights_o\n",
      "        print 'biases: h, i, o', [self.bias_h, self.bias_i, self.bias_o]\n",
      "\n",
      "net = XORNetwork(0.7)\n",
      "net.print_weights()"
     ],
     "language": "python",
     "metadata": {},
     "outputs": [
      {
       "output_type": "stream",
       "stream": "stdout",
       "text": [
        "a->h, b->h [-0.30140226 -1.15877347]\n",
        "a->i, b->i [-1.04731859 -0.16979941]\n",
        "h->o, i->o [-1.26924936  0.0429396 ]\n",
        "biases: h, i, o [-1, -1, -1]\n"
       ]
      }
     ],
     "prompt_number": 341
    },
    {
     "cell_type": "heading",
     "level": 3,
     "metadata": {},
     "source": [
      "Implement the Feedforward Algorithm"
     ]
    },
    {
     "cell_type": "code",
     "collapsed": false,
     "input": [
      "# Computes the output of each neuron, i.e. sum all of its inputs, add the bias, \n",
      "#    then take the sigmoid of the result.\n",
      "def feedforward(self, inputs): \n",
      "    self.inputs = inputs\n",
      "\n",
      "    self.hidden_out[0] = sigmoid(sum(x * w for x,w in zip(inputs, self.weights_h)) + self.bias_h)\n",
      "    self.hidden_out[1] = sigmoid(sum(x * w for x,w in zip(inputs, self.weights_i)) + self.bias_i)\n",
      "    \n",
      "    self.output = sigmoid(sum(x * w for x,w in zip(self.hidden_out, self.weights_o)) + self.bias_o)\n",
      "\n",
      "    return self.output\n",
      "\n",
      "# Add feedforward to the XORNetwork class\n",
      "XORNetwork.feedforward = feedforward\n",
      "\n",
      "net = XORNetwork(0.7)\n",
      "print net.feedforward(features[0])"
     ],
     "language": "python",
     "metadata": {},
     "outputs": [
      {
       "output_type": "stream",
       "stream": "stdout",
       "text": [
        "0.293848733678\n"
       ]
      }
     ],
     "prompt_number": 342
    },
    {
     "cell_type": "heading",
     "level": 3,
     "metadata": {},
     "source": [
      "Implement Backpropagation"
     ]
    },
    {
     "cell_type": "code",
     "collapsed": false,
     "input": [
      "# Compute the error in each layer backward\n",
      "def backpropagate_errors(self, target):\n",
      "    self.error_output   = self.output * (1.0 - self.output) * (target - self.output)\n",
      "    self.error_output_h = self.hidden_out[0] * (1.0 - self.hidden_out[0]) * (self.error_output * self.weights_o[0])\n",
      "    self.error_output_i = self.hidden_out[1] * (1.0 - self.hidden_out[1]) * (self.error_output * self.weights_o[1])\n",
      "    \n",
      "XORNetwork.backpropagate_errors = backpropagate_errors"
     ],
     "language": "python",
     "metadata": {},
     "outputs": [],
     "prompt_number": 343
    },
    {
     "cell_type": "heading",
     "level": 3,
     "metadata": {},
     "source": [
      "Implement Gradient Descent"
     ]
    },
    {
     "cell_type": "code",
     "collapsed": false,
     "input": [
      "\n",
      "# Apply gradient descent to each weight to lower the overall error\n",
      "# This does not use momentum, which could help with zigzagging around the minimum\n",
      "def gradient_descent(self):\n",
      "    self.weights_o = [w + self.learning_rate * x * self.error_output   for w, x in zip(self.weights_o, self.hidden_out)]\n",
      "    self.weights_h = [w + self.learning_rate * x * self.error_output_h for w, x in zip(self.weights_h, self.inputs)]\n",
      "    self.weights_i = [w + self.learning_rate * x * self.error_output_i for w, x in zip(self.weights_i, self.inputs)]\n",
      "\n",
      "    self.bias_o += self.learning_rate * self.error_output\n",
      "    self.bias_h += self.learning_rate * self.error_output_h\n",
      "    self.bias_i += self.learning_rate * self.error_output_i\n",
      "    \n",
      "XORNetwork.gradient_descent = gradient_descent"
     ],
     "language": "python",
     "metadata": {},
     "outputs": [],
     "prompt_number": 344
    },
    {
     "cell_type": "heading",
     "level": 3,
     "metadata": {},
     "source": [
      "Training Algorithm for On-line Backprop"
     ]
    },
    {
     "cell_type": "code",
     "collapsed": false,
     "input": [
      "# NOTE - This is ON-LINE learning, which is not optimal in this case.\n",
      "#   Returns the mean squared error following the training run\n",
      "def train(self, features, targets):\n",
      "    total_error = 0.0\n",
      "\n",
      "    # For each pattern, compute the outputs, backprop the errors, then \n",
      "    #    perform gradient descent on the weights.\n",
      "    for i in range(len(features)):\n",
      "        out = net.feedforward(features[i])\n",
      "        \n",
      "        net.backpropagate_errors(targets[i])\n",
      "        net.gradient_descent()\n",
      "        \n",
      "        total_error += 0.5 * (out - targets[i])**2\n",
      "    \n",
      "    # Mean Squared Error\n",
      "    return total_error / len(features)\n",
      "\n",
      "XORNetwork.train = train\n",
      "\n",
      "\n",
      "# Create a new network with random weights and learning rate 0.7\n",
      "net = XORNetwork(0.7)\n",
      "\n",
      "# Train for many iterations and plot the MSE per training run\n",
      "for i in range(2000):\n",
      "    err = net.train(features, targets)\n",
      "    plt.scatter(i, err)\n",
      "\n",
      "# Print results\n",
      "print 'a=0, b=0', net.feedforward(features[0])\n",
      "print 'a=0, b=1', net.feedforward(features[1])\n",
      "print 'a=1, b=0', net.feedforward(features[2])\n",
      "print 'a=1, b=1', net.feedforward(features[3])\n",
      "print 'FINAL MSE = ', err\n",
      "print '------'\n",
      "net.print_weights()"
     ],
     "language": "python",
     "metadata": {},
     "outputs": [
      {
       "output_type": "stream",
       "stream": "stdout",
       "text": [
        "a=0, b=0 0.044960734819\n",
        "a=0, b=1 0.962528285065\n",
        "a=1, b=0 0.959927820944\n",
        "a=1, b=1 0.0401715217386\n",
        "FINAL MSE =  0.000832706043636\n",
        "------\n",
        "a->h, b->h [4.8578180800894506, -5.1283877974485819]\n",
        "a->i, b->i [-6.0378999202613572, 6.0021595835587886]\n",
        "h->o, i->o [7.7622113625426943, 7.5597087264535885]\n",
        "biases: h, i, o [-2.7063985431048532, -3.4352502974683414, -3.7778048605593266]\n"
       ]
      },
      {
       "metadata": {},
       "output_type": "display_data",
       "png": "[encoded data removed]",
       "text": [
        "<matplotlib.figure.Figure at 0x10bbcc9d0>"
       ]
      }
     ],
     "prompt_number": 345
    },
    {
     "cell_type": "code",
     "collapsed": false,
     "input": [],
     "language": "python",
     "metadata": {},
     "outputs": []
    }
   ],
   "metadata": {}
  }
 ]
}