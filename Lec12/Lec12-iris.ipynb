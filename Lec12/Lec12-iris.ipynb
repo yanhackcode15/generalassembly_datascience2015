{
 "metadata": {
  "name": "",
  "signature": "sha256:45ea870b884ab94e71990189023bf582c69583e19206351167d8a9d943197ac4"
 },
 "nbformat": 3,
 "nbformat_minor": 0,
 "worksheets": [
  {
   "cells": [
    {
     "cell_type": "heading",
     "level": 1,
     "metadata": {},
     "source": [
      "GA Data Science: IRIS Dataset Lab (Feedforward w/ Backprop)"
     ]
    },
    {
     "cell_type": "code",
     "collapsed": false,
     "input": [
      "import random\n",
      "import math\n",
      "import numpy as np\n",
      "import pandas as pd\n",
      "\n",
      "import sklearn.datasets as datasets\n",
      "\n",
      "from pybrain.datasets import SupervisedDataSet\n",
      "from pybrain.tools.shortcuts import buildNetwork\n",
      "from pybrain.supervised.trainers import BackpropTrainer\n",
      "from pybrain.structure import TanhLayer\n",
      "from pybrain.structure import SigmoidLayer\n",
      "\n",
      "import matplotlib.pyplot as plt\n",
      "%matplotlib inline"
     ],
     "language": "python",
     "metadata": {},
     "outputs": [],
     "prompt_number": 56
    },
    {
     "cell_type": "heading",
     "level": 2,
     "metadata": {},
     "source": [
      "Part I - Load The Data"
     ]
    },
    {
     "cell_type": "code",
     "collapsed": false,
     "input": [
      "iris = datasets.load_iris()\n",
      "\n",
      "X = iris.data  \n",
      "Y = iris.target\n",
      "\n",
      "print 'X shape: ', X.shape\n",
      "print 'Y shape: ', Y.shape\n",
      "print iris.DESCR"
     ],
     "language": "python",
     "metadata": {},
     "outputs": [],
     "prompt_number": 53
    },
    {
     "cell_type": "heading",
     "level": 2,
     "metadata": {},
     "source": [
      "Part II - Visualize The Data "
     ]
    },
    {
     "cell_type": "code",
     "collapsed": false,
     "input": [
      "# top    - Iris-Virginica\n",
      "# middle - Iris-Versicolour         \n",
      "# bottom - Iris-Setosa\n",
      "\n",
      "plt.scatter(X[:,0], Y, color='green');      # sepal length\n",
      "plt.scatter(X[:,1], Y-0.1, color='red');    # sepal width\n",
      "plt.scatter(X[:,2], Y-0.2, color='blue');   # petal length\n",
      "plt.scatter(X[:,3], Y-0.3, color='yellow'); # petal width"
     ],
     "language": "python",
     "metadata": {},
     "outputs": [],
     "prompt_number": 54
    },
    {
     "cell_type": "markdown",
     "metadata": {},
     "source": [
      "First, understand what is being drawn above. (The data exploration phase.) Then:\n",
      "    1. Of the 4 inputs, which features should you use for classification? Should all of them be used? (i.e. Which features would be useful to distinguish between the plant species?)\n",
      "    2. In your opinion, do we even need a neural network to help with classification? Could we write classification rules ourselves for this data?"
     ]
    },
    {
     "cell_type": "heading",
     "level": 2,
     "metadata": {},
     "source": [
      "Part III - Split Data Into Two Sets - Training/Test (70%, 30%)"
     ]
    },
    {
     "cell_type": "code",
     "collapsed": false,
     "input": [
      "# Use sklearn.cross_validation.train_test_split \n",
      "#    to split your dataset into training data (70%) \n",
      "#    and testing data (30%)."
     ],
     "language": "python",
     "metadata": {},
     "outputs": []
    },
    {
     "cell_type": "heading",
     "level": 2,
     "metadata": {},
     "source": [
      "Part IV - Train Using Training Set"
     ]
    },
    {
     "cell_type": "code",
     "collapsed": false,
     "input": [
      "# Use the neural nets examples from Tuesday to train\n",
      "#   a feedforward neural net via backpropagation\n",
      "\n",
      "# As it trains, plot a graph of the MSE of the training set.\n",
      "#  On the same graph in a different color, plot the MSE of the test set.\n",
      "#  Eventually, does overfitting occur? \n",
      "#    (The test set error increases while the training error decreases.)"
     ],
     "language": "python",
     "metadata": {},
     "outputs": []
    }
   ],
   "metadata": {}
  }
 ]
}