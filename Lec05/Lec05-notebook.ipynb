{
 "metadata": {
  "name": "",
  "signature": "sha256:289dfa45a068e91953d6d45f959ee47e71aafc23b13abdc78204479931f6a826"
 },
 "nbformat": 3,
 "nbformat_minor": 0,
 "worksheets": [
  {
   "cells": [
    {
     "cell_type": "code",
     "collapsed": false,
     "input": [
      "import pandas.io.data\n"
     ],
     "language": "python",
     "metadata": {},
     "outputs": [],
     "prompt_number": 2
    },
    {
     "cell_type": "code",
     "collapsed": false,
     "input": [
      "import datetime\n",
      "start = datetime.datetime(2000,1,1)\n",
      "stop = datetime.datetime(2014,1,1)\n",
      "a = pandas.io.data.get_data_yahoo(['YHOO','ORCL'],start,stop)"
     ],
     "language": "python",
     "metadata": {},
     "outputs": [],
     "prompt_number": 11
    },
    {
     "cell_type": "code",
     "collapsed": false,
     "input": [
      "a.High.ORCL"
     ],
     "language": "python",
     "metadata": {},
     "outputs": [
      {
       "metadata": {},
       "output_type": "pyout",
       "prompt_number": 16,
       "text": [
        "Date\n",
        "2000-01-03    125.19\n",
        "2000-01-04    118.62\n",
        "2000-01-05    106.38\n",
        "2000-01-06    105.00\n",
        "2000-01-07    103.50\n",
        "2000-01-10    116.00\n",
        "2000-01-11    114.75\n",
        "2000-01-12    112.25\n",
        "2000-01-13    109.88\n",
        "2000-01-14    111.38\n",
        "2000-01-18    114.50\n",
        "2000-01-19     58.25\n",
        "2000-01-20     60.25\n",
        "2000-01-21     61.50\n",
        "2000-01-24     60.38\n",
        "...\n",
        "2013-12-10    35.47\n",
        "2013-12-11    35.06\n",
        "2013-12-12    33.90\n",
        "2013-12-13    33.70\n",
        "2013-12-16    33.88\n",
        "2013-12-17    33.79\n",
        "2013-12-18    34.76\n",
        "2013-12-19    36.96\n",
        "2013-12-20    36.80\n",
        "2013-12-23    37.02\n",
        "2013-12-24    37.38\n",
        "2013-12-26    37.75\n",
        "2013-12-27    38.22\n",
        "2013-12-30    38.11\n",
        "2013-12-31    38.34\n",
        "Name: ORCL, Length: 3521"
       ]
      }
     ],
     "prompt_number": 16
    },
    {
     "cell_type": "code",
     "collapsed": false,
     "input": [],
     "language": "python",
     "metadata": {},
     "outputs": [
      {
       "metadata": {},
       "output_type": "pyout",
       "prompt_number": 7,
       "text": [
        "<matplotlib.axes._subplots.AxesSubplot at 0x10c4adb90>"
       ]
      },
      {
       "metadata": {},
       "output_type": "display_data",
       "png": "[encoded data removed]",
       "text": [
        "<matplotlib.figure.Figure at 0x10c455fd0>"
       ]
      }
     ],
     "prompt_number": 7
    },
    {
     "cell_type": "code",
     "collapsed": false,
     "input": [
      "type(a)"
     ],
     "language": "python",
     "metadata": {},
     "outputs": [
      {
       "metadata": {},
       "output_type": "pyout",
       "prompt_number": 15,
       "text": [
        "pandas.core.panel.Panel"
       ]
      }
     ],
     "prompt_number": 15
    },
    {
     "cell_type": "code",
     "collapsed": false,
     "input": [
      "%matplotlib inline"
     ],
     "language": "python",
     "metadata": {},
     "outputs": [],
     "prompt_number": 6
    },
    {
     "cell_type": "code",
     "collapsed": false,
     "input": [
      "a.High.YHOO.plot()"
     ],
     "language": "python",
     "metadata": {},
     "outputs": [
      {
       "metadata": {},
       "output_type": "pyout",
       "prompt_number": 8,
       "text": [
        "<matplotlib.axes._subplots.AxesSubplot at 0x10c4fc7d0>"
       ]
      },
      {
       "metadata": {},
       "output_type": "display_data",
       "png": "[encoded data removed]",
       "text": [
        "<matplotlib.figure.Figure at 0x10aa2a850>"
       ]
      }
     ],
     "prompt_number": 8
    },
    {
     "cell_type": "code",
     "collapsed": false,
     "input": [
      "a"
     ],
     "language": "python",
     "metadata": {},
     "outputs": [
      {
       "metadata": {},
       "output_type": "pyout",
       "prompt_number": 17,
       "text": [
        "<class 'pandas.core.panel.Panel'>\n",
        "Dimensions: 6 (items) x 3521 (major_axis) x 2 (minor_axis)\n",
        "Items axis: Open to Adj Close\n",
        "Major_axis axis: 2000-01-03 00:00:00 to 2013-12-31 00:00:00\n",
        "Minor_axis axis: ORCL to YHOO"
       ]
      }
     ],
     "prompt_number": 17
    },
    {
     "cell_type": "code",
     "collapsed": false,
     "input": [
      "ORCL = a.High.ORCL\n",
      "YHOO = a.High.YHOO"
     ],
     "language": "python",
     "metadata": {},
     "outputs": [],
     "prompt_number": 25
    },
    {
     "cell_type": "code",
     "collapsed": false,
     "input": [
      "YHOO = a.High.YHOO"
     ],
     "language": "python",
     "metadata": {},
     "outputs": [],
     "prompt_number": 19
    },
    {
     "cell_type": "code",
     "collapsed": false,
     "input": [
      "ORCL.shape"
     ],
     "language": "python",
     "metadata": {},
     "outputs": [
      {
       "metadata": {},
       "output_type": "pyout",
       "prompt_number": 23,
       "text": [
        "(3521,)"
       ]
      }
     ],
     "prompt_number": 23
    },
    {
     "cell_type": "code",
     "collapsed": false,
     "input": [
      "import numpy as np"
     ],
     "language": "python",
     "metadata": {},
     "outputs": [],
     "prompt_number": 26
    },
    {
     "cell_type": "code",
     "collapsed": false,
     "input": [
      "np.corrcoef(ORCL, YHOO)"
     ],
     "language": "python",
     "metadata": {},
     "outputs": [
      {
       "metadata": {},
       "output_type": "pyout",
       "prompt_number": 27,
       "text": [
        "array([[ 1.        ,  0.68749239],\n",
        "       [ 0.68749239,  1.        ]])"
       ]
      }
     ],
     "prompt_number": 27
    },
    {
     "cell_type": "code",
     "collapsed": false,
     "input": [
      "YHOO.describe()"
     ],
     "language": "python",
     "metadata": {},
     "outputs": [
      {
       "metadata": {},
       "output_type": "pyout",
       "prompt_number": 21,
       "text": [
        "count    3521.000000\n",
        "mean       32.750949\n",
        "std        41.568624\n",
        "min         9.200000\n",
        "25%        16.070000\n",
        "50%        23.800000\n",
        "75%        33.050000\n",
        "max       500.120000\n",
        "dtype: float64"
       ]
      }
     ],
     "prompt_number": 21
    },
    {
     "cell_type": "code",
     "collapsed": false,
     "input": [
      "import pandas as pd"
     ],
     "language": "python",
     "metadata": {},
     "outputs": [],
     "prompt_number": 32
    },
    {
     "cell_type": "code",
     "collapsed": false,
     "input": [
      "results = np.zeros(14)"
     ],
     "language": "python",
     "metadata": {},
     "outputs": [],
     "prompt_number": 47
    },
    {
     "cell_type": "code",
     "collapsed": false,
     "input": [
      "results"
     ],
     "language": "python",
     "metadata": {},
     "outputs": [
      {
       "metadata": {},
       "output_type": "pyout",
       "prompt_number": 44,
       "text": [
        "0      0\n",
        "1      1\n",
        "2      2\n",
        "3      3\n",
        "4      4\n",
        "5      5\n",
        "6      6\n",
        "7      7\n",
        "8      8\n",
        "9      9\n",
        "10    10\n",
        "11    11\n",
        "12    12\n",
        "13    13\n",
        "dtype: int64"
       ]
      }
     ],
     "prompt_number": 44
    },
    {
     "cell_type": "code",
     "collapsed": false,
     "input": [
      "for i in range(14):\n",
      "    start_index = i*251\n",
      "    stop_index = (i+1)*251\n",
      "    temp = np.corrcoef(ORCL[start_index:stop_index],YHOO[start_index:stop_index])\n",
      "    results[i] = temp[0,1]\n",
      "    "
     ],
     "language": "python",
     "metadata": {},
     "outputs": [],
     "prompt_number": 48
    },
    {
     "cell_type": "code",
     "collapsed": false,
     "input": [
      "results"
     ],
     "language": "python",
     "metadata": {},
     "outputs": [
      {
       "metadata": {},
       "output_type": "pyout",
       "prompt_number": 49,
       "text": [
        "array([ 0.51644608,  0.91037239,  0.57760693,  0.33363666,  0.5905592 ,\n",
        "       -0.15355896, -0.79260453, -0.42585325,  0.6040239 ,  0.7436754 ,\n",
        "        0.44581307,  0.77795239,  0.37146372, -0.06689516])"
       ]
      }
     ],
     "prompt_number": 49
    },
    {
     "cell_type": "code",
     "collapsed": false,
     "input": [
      "import matplotlib.pyplot as plt"
     ],
     "language": "python",
     "metadata": {},
     "outputs": [],
     "prompt_number": 50
    },
    {
     "cell_type": "code",
     "collapsed": false,
     "input": [
      "plt.plot(results)"
     ],
     "language": "python",
     "metadata": {},
     "outputs": [
      {
       "metadata": {},
       "output_type": "pyout",
       "prompt_number": 51,
       "text": [
        "[<matplotlib.lines.Line2D at 0x109ed9990>]"
       ]
      },
      {
       "metadata": {},
       "output_type": "display_data",
       "png": "[encoded data removed]",
       "text": [
        "<matplotlib.figure.Figure at 0x109ce0510>"
       ]
      }
     ],
     "prompt_number": 51
    },
    {
     "cell_type": "code",
     "collapsed": false,
     "input": [
      "plt.plot(a.High.YHOO,'g');\n",
      "plt.plot(a.High.ORCL,'b');\n",
      "plt.ylim([0,np.ma])"
     ],
     "language": "python",
     "metadata": {},
     "outputs": [
      {
       "metadata": {},
       "output_type": "display_data",
       "png": "[encoded data removed]",
       "text": [
        "<matplotlib.figure.Figure at 0x10d94e310>"
       ]
      }
     ],
     "prompt_number": 70
    },
    {
     "cell_type": "code",
     "collapsed": false,
     "input": [],
     "language": "python",
     "metadata": {},
     "outputs": []
    }
   ],
   "metadata": {}
  }
 ]
}