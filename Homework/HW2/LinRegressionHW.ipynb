{
 "metadata": {
  "name": "",
  "signature": "sha256:610d1d1044064a2d34dec689136806659a32d3007161e7fc370d551051e9ce2c"
 },
 "nbformat": 3,
 "nbformat_minor": 0,
 "worksheets": [
  {
   "cells": [
    {
     "cell_type": "code",
     "collapsed": false,
     "input": [
      "'''Welcome to Homework 2. \n",
      "\n",
      "Due Date: 2015.03.12\n",
      "\n",
      "We will build our own linear regression model on the Boston home prices dataset to confirm our understandings of the model,\n",
      "and test our knowledge and prowess against the package in sci-kit learn.\n",
      "\n",
      "In each of the parts below, I have provided a function definition (with the\n",
      "correct arguments but no implementation) and some tests that will pass *if* \n",
      "you fill in the correct implementation for each function. If you run this and it does not throw\n",
      " any errors, then you have finished the exercise!\n",
      "'''"
     ],
     "language": "python",
     "metadata": {},
     "outputs": []
    },
    {
     "cell_type": "code",
     "collapsed": false,
     "input": [
      "# Question 1: Write a function that returns the product of two matrices, given as numpy arrays. \n",
      "# Using numpy shortcuts is okay this time. Even very, very short ones :)\n",
      "def matrix_multiply(A, B): \n",
      "    '''PUT YOUR ANSWER HERE'''\n",
      "\n",
      "attempt = matrix_multiply(np.arange(15).reshape((3,5)), np.arange(15).reshape(5,3))\n",
      "truth = np.array([[ 90, 100, 110],\n",
      "              [240, 275, 310],\n",
      "              [390, 450, 510]])\n",
      "\n",
      "np.testing.assert_array_equal(attempt, truth)\n",
      "\n",
      "attempt = matrix_multiply(np.eye(5), np.eye(5))\n",
      "truth = np.eye(5)\n",
      "\n",
      "np.testing.assert_array_equal(attempt, truth)"
     ],
     "language": "python",
     "metadata": {},
     "outputs": []
    },
    {
     "cell_type": "code",
     "collapsed": false,
     "input": [
      "# Question 2: Write a function that returns the inverse of a matrix, given as a numpy array. \n",
      "# If the matrix given is not invertible, this function should return the pseudoinverse of the matrix.\n",
      "# Again, for this question, using numpy shortcuts is okay. \n",
      "def matrix_invert(A): \n",
      "    '''PUT YOUR ANSWER HERE'''\n",
      "\n",
      "# if it worked at all, you probably did it right \n",
      "assert matrix_invert(np.arange(16).reshape(4,4)).shape == (4,4)\n",
      "assert matrix_invert(np.random.randn(4,4)).shape == (4,4)"
     ],
     "language": "python",
     "metadata": {},
     "outputs": []
    },
    {
     "cell_type": "code",
     "collapsed": false,
     "input": [
      "# Let's load the Boston home prices dataset from scikit-learn and read the description.  \n",
      "from sklearn.datasets import load_boston\n",
      "\n",
      "beantown = load_boston()\n",
      "print beantown.DESCR"
     ],
     "language": "python",
     "metadata": {},
     "outputs": []
    },
    {
     "cell_type": "code",
     "collapsed": false,
     "input": [
      "# Question 3: separate the data into features and targets, and split into training and testing sets.\n",
      "\n",
      "'''PUT YOUR ANSWER HERE'''"
     ],
     "language": "python",
     "metadata": {},
     "outputs": []
    },
    {
     "cell_type": "code",
     "collapsed": false,
     "input": [
      "# Question 4: Use the normal equations (those matrix equations we learned in class\n",
      "# that solve for the optimal weights in linear regression) to find the optimal weight\n",
      "# vector w. \n",
      "# We will use this to build a linear model to predict a target price in Boston for a given home. \n",
      "# Note: Remember the bias term!\n",
      "\n",
      "def solve(X, y): \n",
      "    '''PUT YOUR ANSWER HERE'''\n",
      "\n",
      "w = solve(X_train, y_train)"
     ],
     "language": "python",
     "metadata": {},
     "outputs": []
    },
    {
     "cell_type": "code",
     "collapsed": false,
     "input": [
      "# Question 5: Get predictions from your model.\n",
      "# Note: You will have to think hard about (and do some interactive debugging of perhaps...)\n",
      "# the shapes of your matrices. \n",
      "def get_preds(w, test_set_X): \n",
      "    '''PUT YOUR ANSWER HERE'''\n",
      "\n",
      "preds1 = get_preds(w, X_test)\n",
      "\n",
      "# visually inspect your predictions as a sanity check -- are they in the ballpark of what they should be? \n",
      "print preds1 \n",
      "print y_test"
     ],
     "language": "python",
     "metadata": {},
     "outputs": []
    },
    {
     "cell_type": "code",
     "collapsed": false,
     "input": [
      "# Question 6: To evaluate our model, let's write a function \n",
      "# to calculate the mean squared error between an array of predictions and the truth array. \n",
      "\n",
      "def mse(truth, predictions): \n",
      "    '''PUT YOUR ANSWER HERE'''\n",
      "    \n",
      "assert mse(np.array([1,2,3]), np.array([1,2,3])) == 0.\n",
      "assert mse(np.array([1,1,1]), np.array([1,4,5])) == 25./3.\n",
      "\n",
      "# Now let's evaluate our model \n",
      "err1 = mse(y_test, preds1)\n",
      "print err1"
     ],
     "language": "python",
     "metadata": {},
     "outputs": []
    },
    {
     "cell_type": "code",
     "collapsed": false,
     "input": [
      "# Question 7: Doing it by hand is instructive, but let's see what scikit-learn would have gotten us. \n",
      "# Use scikit-learn to train and evaluate a linear model. \n",
      "# Store the error in the variable err2.\n",
      "\n",
      "'''PUT YOUR ANSWER HERE'''"
     ],
     "language": "python",
     "metadata": {},
     "outputs": []
    },
    {
     "cell_type": "code",
     "collapsed": false,
     "input": [
      "# Final test: is your hand-built model's error equal to scikit-learn's model's error (up to 4 digits)? \n",
      "\n",
      "assert round(err1, 4) == round(err2, 4)\n",
      "\n",
      "print 'Success! You just built a full linear regression model!!!'"
     ],
     "language": "python",
     "metadata": {},
     "outputs": []
    }
   ],
   "metadata": {}
  }
 ]
}