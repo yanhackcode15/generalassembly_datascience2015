{
 "metadata": {
  "name": "",
  "signature": "sha256:51ec8936934cbfa70d4ea0307a0c84f44a02f983f2c271d89391a9b8d810a6e3"
 },
 "nbformat": 3,
 "nbformat_minor": 0,
 "worksheets": [
  {
   "cells": [
    {
     "cell_type": "heading",
     "level": 1,
     "metadata": {},
     "source": [
      "GA Data Science - Neural Networks Group Coding Challenges"
     ]
    },
    {
     "cell_type": "code",
     "collapsed": false,
     "input": [
      "import random\n",
      "import numpy as np\n",
      "import pandas as pd\n",
      "import sklearn.cross_validation as cv # KFolds\n",
      "from math import sin\n",
      "\n",
      "from pybrain.datasets import SupervisedDataSet\n",
      "from pybrain.tools.shortcuts import buildNetwork\n",
      "from pybrain.supervised.trainers import BackpropTrainer\n",
      "from pybrain.structure import TanhLayer\n",
      "from pybrain.structure import SigmoidLayer\n",
      "\n",
      "import matplotlib.pyplot as plt\n",
      "%matplotlib inline"
     ],
     "language": "python",
     "metadata": {},
     "outputs": [],
     "prompt_number": 10
    },
    {
     "cell_type": "heading",
     "level": 2,
     "metadata": {},
     "source": [
      "Group Challenge #1 - Derivatives"
     ]
    },
    {
     "cell_type": "code",
     "collapsed": false,
     "input": [
      "# f(x) = 2x^4 - 9x^3 + 7\n",
      "def f(x):\n",
      "    return 2 * x**4 - 9 * x**3 + 7\n",
      "\n",
      "# Return the algebraic derivative\n",
      "def f_prime(x):\n",
      "    return 8 * x**3 - 27 * x**2\n",
      "\n",
      "# Return the numeric derivative\n",
      "def f_prime_numerical(x):\n",
      "    p = 0.000001\n",
      "    return (f(x + p) - f(x)) / p\n",
      "\n",
      "print f_prime(5)\n",
      "print f_prime_numerical(5)"
     ],
     "language": "python",
     "metadata": {},
     "outputs": [
      {
       "output_type": "stream",
       "stream": "stdout",
       "text": [
        "325\n",
        "325.000165049\n"
       ]
      }
     ],
     "prompt_number": 7
    },
    {
     "cell_type": "heading",
     "level": 2,
     "metadata": {},
     "source": [
      "Group Challenge #2 - Gradient Descent"
     ]
    },
    {
     "cell_type": "code",
     "collapsed": false,
     "input": [
      "# Use gradient descent to find the minima of f(x)\n",
      "def gradient_descent_f(start_x):\n",
      "    x = start_x\n",
      "    nu = 0.001\n",
      "\n",
      "    for i in range(1000):\n",
      "        x -= nu * f_prime(x)\n",
      "        #plt.scatter(i, f(x_new))\n",
      "\n",
      "    return x\n",
      "\n",
      "# Find the correct minima using Wolfram Alpha and compare\n",
      "print(\"Minimum at: \", gradient_descent_f(6))   "
     ],
     "language": "python",
     "metadata": {},
     "outputs": [
      {
       "output_type": "stream",
       "stream": "stdout",
       "text": [
        "('Minimum at: ', 3.3750000000000018)\n"
       ]
      }
     ],
     "prompt_number": 104
    },
    {
     "cell_type": "heading",
     "level": 2,
     "metadata": {},
     "source": [
      "Group Challenge #3 - Partial Derivatives"
     ]
    },
    {
     "cell_type": "code",
     "collapsed": false,
     "input": [
      "# g(x, y) = x^2 + xy - 12.4x + y^2 + 6y + 47.44\n",
      "def g(x, y):\n",
      "    return x**2 + x*y - 12.4*x + y**2 + 6*y + 47.44\n",
      "\n",
      "# dg/dx\n",
      "def g_prime_x(x, y):\n",
      "    return 2*x + y - 12.4\n",
      "\n",
      "# dg/dy\n",
      "def g_prime_y(x, y):\n",
      "    return x + 2*y + 6\n",
      "\n",
      "# A 2x1 ndarray of the two partial derivatives\n",
      "def g_gradient(x, y):\n",
      "    return np.array([g_prime_x(x,y), g_prime_y(x,y)]).reshape(2,1)\n",
      "\n",
      "# Should be [-0.4, 15.] (transposed)\n",
      "print g_gradient(5, 2)"
     ],
     "language": "python",
     "metadata": {},
     "outputs": [
      {
       "output_type": "stream",
       "stream": "stdout",
       "text": [
        "[[ -0.4]\n",
        " [ 15. ]]\n"
       ]
      }
     ],
     "prompt_number": 106
    },
    {
     "cell_type": "heading",
     "level": 2,
     "metadata": {},
     "source": [
      "Group Challenge #4 - Vector-Based Gradient Descent"
     ]
    },
    {
     "cell_type": "code",
     "collapsed": false,
     "input": [
      "# A 2x1 ndarray of how much to change each value to minimize g\n",
      "def delta_v(values, learning_rate):\n",
      "    return -learning_rate * g_gradient(values[0], values[1])\n",
      "\n",
      "# 6.5, -37.8\n",
      "def gradient_descent_g(start_x, start_y):\n",
      "\n",
      "    # A 2x1 ndarray of your starting point\n",
      "    values = np.array([float(start_x), float(start_y)]).reshape(2,1)\n",
      "    \n",
      "    y_val = []\n",
      "    nu = 0.01           # learning rate\n",
      "    for x in range(500):\n",
      "        values += delta_v(values, nu)\n",
      "        y_val.append(g(values[0], values[1]))\n",
      "\n",
      "    plt.plot(y_val)\n",
      "        \n",
      "    return values\n",
      "\n",
      "# Find the correct minimum using Wolfram Alpha and compare\n",
      "minimum = gradient_descent_g(2, -4)\n",
      "print minimum\n",
      "print g(minimum[0], minimum[1])"
     ],
     "language": "python",
     "metadata": {},
     "outputs": [
      {
       "output_type": "stream",
       "stream": "stdout",
       "text": [
        "[[ 10.22592917]\n",
        " [ -8.09259684]]\n",
        "[-40.61167383]\n"
       ]
      },
      {
       "metadata": {},
       "output_type": "display_data",
       "png": "[encoded data removed]",
       "text": [
        "<matplotlib.figure.Figure at 0x10750a450>"
       ]
      }
     ],
     "prompt_number": 103
    },
    {
     "cell_type": "heading",
     "level": 2,
     "metadata": {},
     "source": [
      "Group Challenge #5 - Neural Network Architecture"
     ]
    },
    {
     "cell_type": "code",
     "collapsed": false,
     "input": [
      "# From http://neuralnetworksanddeeplearning.com/chap1.html\n",
      "#### Sigmoid function\n",
      "def sigmoid(z):\n",
      "    \"\"\"The sigmoid function.\"\"\"\n",
      "    return 1.0/(1.0+np.exp(-z))\n",
      "\n",
      "sigmoid_vec = np.vectorize(sigmoid)"
     ],
     "language": "python",
     "metadata": {},
     "outputs": [],
     "prompt_number": 142
    },
    {
     "cell_type": "code",
     "collapsed": false,
     "input": [
      "# From http://neuralnetworksanddeeplearning.com/chap1.html\n",
      "class Network():\n",
      "\n",
      "    # Constructor - for a new network, pass in a list of 'sizes'.\n",
      "    # Example: Network([2, 3, 1]) makes a new network with\n",
      "    #          2 input neurons, 3 hidden layer neurons, and 1 output neuron\n",
      "    def __init__(self, sizes):\n",
      "        self.num_layers = len(sizes)\n",
      "        self.sizes = sizes\n",
      "        self.biases = [np.random.randn(y, 1) for y in sizes[1:]]\n",
      "        self.weights = [np.random.randn(y, x) \n",
      "                        for x, y in zip(sizes[:-1], sizes[1:])]\n",
      "\n",
      "    def makeXOR(self):\n",
      "        self.biases[0][0] = 1.5 # hidden 1\n",
      "        self.biases[0][1] = 0.5 # hidden 2\n",
      "        self.biases[1][0] = 0.5 # output\n",
      "        self.weights[0][0][0] = 1   # layer 0->1, hidden neuron 1\n",
      "        self.weights[0][0][1] = -1  # layer 0->1, hidden neuron 1\n",
      "        self.weights[0][1][0] = -1  # layer 0->1, hidden neuron 2\n",
      "        self.weights[0][1][1] = 1   # layer 0->1, hidden neuron 2\n",
      "        self.weights[1][0][0] = 1  # layer 1->2, hidden 1 -> output neuron\n",
      "        self.weights[1][0][1] = 1  # layer 1->2, hidden 2 -> output neuron\n",
      "        print self.weights[1][0]\n",
      "        print self.biases\n",
      "        print self.weights\n",
      "    \n",
      "    # Computes the output values given inputs a\n",
      "    def feedforward(self, a):\n",
      "        \"\"\"Return the output of the network if \"a\" is input.\"\"\"\n",
      "        for b, w in zip(self.biases, self.weights):\n",
      "            print a\n",
      "            a = sigmoid_vec(np.dot(w, a)+b)\n",
      "\n",
      "        return a\n",
      "\n",
      "net = Network([2, 2, 1])\n",
      "net.makeXOR()\n",
      "print net.feedforward([-100, 100])"
     ],
     "language": "python",
     "metadata": {},
     "outputs": [
      {
       "output_type": "stream",
       "stream": "stdout",
       "text": [
        "[ 1.  1.]\n",
        "[array([[ 1.5],\n",
        "       [ 0.5]]), array([[ 0.5]])]\n",
        "[array([[ 1., -1.],\n",
        "       [-1.,  1.]]), array([[ 1.,  1.]])]\n",
        "[-100, 100]\n",
        "[[  6.20219394e-87   1.00000000e+00]\n",
        " [  2.28165964e-87   1.00000000e+00]]\n",
        "[[ 0.62245933  0.92414182]]\n"
       ]
      }
     ],
     "prompt_number": 163
    },
    {
     "cell_type": "heading",
     "level": 2,
     "metadata": {},
     "source": [
      "Group Challenge #6 - PyBrain XOR"
     ]
    },
    {
     "cell_type": "code",
     "collapsed": false,
     "input": [
      "# Create a new dataset - 2 inputs, 1 output\n",
      "ds = SupervisedDataSet(2,1)\n",
      "\n",
      "# Add XOR training data\n",
      "ds.addSample((0, 0), (0,))\n",
      "ds.addSample((0, 1), (1,))\n",
      "ds.addSample((1, 0), (1,))\n",
      "ds.addSample((1, 1), (0,))\n",
      "\n",
      "# Build a network and train it with the dataset\n",
      "# 2 input neurons, 3 hidden neurons, 1 output neuron\n",
      "net = buildNetwork(2, 3, 1, bias=True, hiddenclass=TanhLayer)\n",
      "trainer = BackpropTrainer(net, ds)\n",
      "\n",
      "# Train for a given number of iterations, create scatterplot if desired\n",
      "for i in range(1000):\n",
      "    err = trainer.train()\n",
      "    plt.scatter(i, err)\n",
      "\n",
      "# Test the outputs\n",
      "print net.activate([0, 0])\n",
      "print net.activate([0, 1])\n",
      "print net.activate([1, 0])\n",
      "print net.activate([1, 1])\n"
     ],
     "language": "python",
     "metadata": {},
     "outputs": [
      {
       "output_type": "stream",
       "stream": "stdout",
       "text": [
        "[ 0.00272621]\n",
        "[ 0.99806113]\n",
        "[ 0.99670989]\n",
        "[ 0.00107863]\n"
       ]
      },
      {
       "metadata": {},
       "output_type": "display_data",
       "png": "[encoded data removed]",
       "text": [
        "<matplotlib.figure.Figure at 0x10390eb90>"
       ]
      }
     ],
     "prompt_number": 6
    },
    {
     "cell_type": "heading",
     "level": 2,
     "metadata": {},
     "source": [
      "Group Challenge #7 - PyBrain sin()"
     ]
    },
    {
     "cell_type": "code",
     "collapsed": false,
     "input": [
      "# Create a new dataset between 0 and 2pi\n",
      "x = np.linspace(0, 2*np.pi, 100)\n",
      "ds = SupervisedDataSet(1,1)\n",
      "\n",
      "# Create our training data -- sin(x)\n",
      "for i in x:\n",
      "    ds.addSample(i,sin(i))\n",
      "\n",
      "# Build a network and train it with the dataset\n",
      "net = buildNetwork(ds.indim,30,ds.outdim, bias=True, hiddenclass=TanhLayer)\n",
      "trainer = BackpropTrainer(net, ds)\n",
      "\n",
      "# Train the network, create an error scatterplot if desired\n",
      "for i in range(50):\n",
      "    err = trainer.train()\n",
      "    plt.scatter(i, err)\n",
      "\n",
      "plt.show()\n",
      "\n",
      "# Plot the sin(x) in one color, and the activation in another color!\n",
      "for i in x:\n",
      "    plt.scatter(i, net.activate([i]), color='r')\n",
      "    plt.scatter(i, sin(i), color='g')"
     ],
     "language": "python",
     "metadata": {},
     "outputs": [
      {
       "metadata": {},
       "output_type": "display_data",
       "png": "[encoded data removed]",
       "text": [
        "<matplotlib.figure.Figure at 0x1038f1f50>"
       ]
      },
      {
       "metadata": {},
       "output_type": "display_data",
       "png": "[encoded data removed]",
       "text": [
        "<matplotlib.figure.Figure at 0x109978650>"
       ]
      }
     ],
     "prompt_number": 9
    },
    {
     "cell_type": "code",
     "collapsed": false,
     "input": [],
     "language": "python",
     "metadata": {},
     "outputs": []
    }
   ],
   "metadata": {}
  }
 ]
}