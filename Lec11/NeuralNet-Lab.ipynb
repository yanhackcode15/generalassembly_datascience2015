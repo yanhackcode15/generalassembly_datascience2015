{
 "metadata": {
  "name": "",
  "signature": "sha256:acc38a776b5215811ebbbe14148e08f2366adb2a25a62a58ebd7c95b490fd039"
 },
 "nbformat": 3,
 "nbformat_minor": 0,
 "worksheets": [
  {
   "cells": [
    {
     "cell_type": "heading",
     "level": 1,
     "metadata": {},
     "source": [
      "GA Data Science - Neural Networks Group Coding Challenges"
     ]
    },
    {
     "cell_type": "code",
     "collapsed": false,
     "input": [
      "import random\n",
      "import numpy as np\n",
      "import pandas as pd\n",
      "from math import sin\n",
      "import sklearn.cross_validation as cv # KFolds\n",
      "\n",
      "from pybrain.datasets import SupervisedDataSet\n",
      "from pybrain.tools.shortcuts import buildNetwork\n",
      "from pybrain.supervised.trainers import BackpropTrainer\n",
      "from pybrain.structure import TanhLayer\n",
      "from pybrain.structure import SigmoidLayer\n",
      "\n",
      "import matplotlib.pyplot as plt\n",
      "%matplotlib inline"
     ],
     "language": "python",
     "metadata": {},
     "outputs": [],
     "prompt_number": 1
    },
    {
     "cell_type": "heading",
     "level": 2,
     "metadata": {},
     "source": [
      "Group Challenge #1 - Derivatives"
     ]
    },
    {
     "cell_type": "code",
     "collapsed": false,
     "input": [
      "# f(x) = 2x^4 - 9x^3 + 7\n",
      "def f(x):\n",
      "    return 2 * x**4 - 9 * x**3 + 7\n",
      "\n",
      "# Return the algebraic derivative\n",
      "def f_prime(x):\n",
      "    return 0\n",
      "\n",
      "# Return the numeric derivative\n",
      "def f_prime_numerical(x):\n",
      "    return 0\n",
      "\n",
      "print f_prime(5)\n",
      "print f_prime_numerical(5)"
     ],
     "language": "python",
     "metadata": {},
     "outputs": [
      {
       "output_type": "stream",
       "stream": "stdout",
       "text": [
        "0\n",
        "0\n"
       ]
      }
     ],
     "prompt_number": 2
    },
    {
     "cell_type": "heading",
     "level": 2,
     "metadata": {},
     "source": [
      "Group Challenge #2 - Gradient Descent"
     ]
    },
    {
     "cell_type": "code",
     "collapsed": false,
     "input": [
      "# Use gradient descent to find the minima of f(x)\n",
      "def gradient_descent_f(start_x):\n",
      "    x = start_x\n",
      "    \n",
      "    # Gradient descent\n",
      "    \n",
      "    return x\n",
      "\n",
      "# Find the correct minima using Wolfram Alpha and compare\n",
      "print(\"Minimum at: \", gradient_descent_f(6))   "
     ],
     "language": "python",
     "metadata": {},
     "outputs": [
      {
       "output_type": "stream",
       "stream": "stdout",
       "text": [
        "('Minimum at: ', 6)\n"
       ]
      }
     ],
     "prompt_number": 8
    },
    {
     "cell_type": "heading",
     "level": 2,
     "metadata": {},
     "source": [
      "Group Challenge #3 - Partial Derivatives"
     ]
    },
    {
     "cell_type": "code",
     "collapsed": false,
     "input": [
      "# g(x, y) = x^2 + xy - 12.4x + y^2 + 6y + 47.44\n",
      "def g(x, y):\n",
      "    return x**2 + x*y - 12.4*x + y**2 + 6*y + 47.44\n",
      "\n",
      "# dg/dx\n",
      "def g_prime_x(x, y):\n",
      "    return 0\n",
      "\n",
      "# dg/dy\n",
      "def g_prime_y(x, y):\n",
      "    return 0\n",
      "\n",
      "# Returns the gradient of g(x)\n",
      "def g_gradient(x, y):\n",
      "    return np.array([g_prime_x(x,y), g_prime_y(x,y)]).reshape(2,1)\n",
      "\n",
      "# Should be [-0.4, 15.] (transposed)\n",
      "print g_gradient(5, 2)"
     ],
     "language": "python",
     "metadata": {},
     "outputs": [
      {
       "output_type": "stream",
       "stream": "stdout",
       "text": [
        "[[0]\n",
        " [0]]\n"
       ]
      }
     ],
     "prompt_number": 9
    },
    {
     "cell_type": "heading",
     "level": 2,
     "metadata": {},
     "source": [
      "Group Challenge #4 - Vector-Based Gradient Descent"
     ]
    },
    {
     "cell_type": "code",
     "collapsed": false,
     "input": [
      "# A 2x1 ndarray of how much to change each value to minimize g\n",
      "def delta_v(values, learning_rate):\n",
      "    return 0\n",
      "\n",
      "# 6.5, -37.8\n",
      "def gradient_descent_g(start_x, start_y):\n",
      "\n",
      "    # A 2x1 ndarray of your starting point\n",
      "    values = np.array([float(start_x), float(start_y)]).reshape(2,1)\n",
      "    \n",
      "    # Gradient descent\n",
      "    \n",
      "    return values\n",
      "\n",
      "# Find the correct minimum using Wolfram Alpha and compare\n",
      "minimum = gradient_descent_g(2, -4)\n",
      "print minimum\n",
      "print g(minimum[0], minimum[1])"
     ],
     "language": "python",
     "metadata": {},
     "outputs": [
      {
       "output_type": "stream",
       "stream": "stdout",
       "text": [
        "[[ 2.]\n",
        " [-4.]]\n",
        "[ 10.64]\n"
       ]
      }
     ],
     "prompt_number": 10
    },
    {
     "cell_type": "heading",
     "level": 2,
     "metadata": {},
     "source": [
      "Group Challenge #6 - PyBrain XOR"
     ]
    },
    {
     "cell_type": "code",
     "collapsed": false,
     "input": [
      "# Create a new dataset - 2 inputs, 1 output\n",
      "\n",
      "# Add XOR training data\n",
      "\n",
      "# Build a network and train it with the dataset\n",
      "# 2 input neurons, 3 hidden neurons, 1 output neuron\n",
      "\n",
      "\n",
      "# Train for a given number of iterations, create scatterplot if desired\n",
      "\n",
      "\n",
      "# Test the outputs\n"
     ],
     "language": "python",
     "metadata": {},
     "outputs": [],
     "prompt_number": 38
    },
    {
     "cell_type": "heading",
     "level": 2,
     "metadata": {},
     "source": [
      "Group Challenge #7 - PyBrain sin()"
     ]
    },
    {
     "cell_type": "code",
     "collapsed": false,
     "input": [
      "# Create a new supervised dataset between 0 and 2pi (see np.linspace)\n",
      "\n",
      "# Add samples to the dataset for sin(x)\n",
      "\n",
      "\n",
      "# Build a network and train it with the dataset\n",
      "\n",
      "# Train the network, create an error scatterplot if desired\n",
      "\n",
      "plt.show()    # makes a new plot\n",
      "\n",
      "# Plot the sin(x) in one color, and the activation in another color!\n"
     ],
     "language": "python",
     "metadata": {},
     "outputs": [],
     "prompt_number": 37
    },
    {
     "cell_type": "code",
     "collapsed": false,
     "input": [],
     "language": "python",
     "metadata": {},
     "outputs": []
    }
   ],
   "metadata": {}
  }
 ]
}